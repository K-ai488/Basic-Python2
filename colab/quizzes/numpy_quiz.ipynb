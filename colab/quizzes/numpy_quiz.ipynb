{
 "cells": [
  {
   "cell_type": "markdown",
   "metadata": {},
   "source": [
    "# Numpyの確認課題"
   ]
  },
  {
   "cell_type": "markdown",
   "metadata": {},
   "source": [
    "## 必要モジュールのインポート\n",
    "\n",
    "この問題で使うモジュールをインポートします．"
   ]
  },
  {
   "cell_type": "code",
   "execution_count": 19,
   "metadata": {},
   "outputs": [],
   "source": [
    "import matplotlib.pyplot as plt\n",
    "import numpy as np\n",
    "\n",
    "np.random.seed(0)"
   ]
  },
  {
   "cell_type": "markdown",
   "metadata": {},
   "source": [
    "---"
   ]
  },
  {
   "cell_type": "markdown",
   "metadata": {},
   "source": [
    "### 問1. `ndarray`の生成\n",
    "\n",
    "以下の2つの`ndarray`を定義しなさい．\n",
    "- 観測値 `x`: 初項`0`，末項`5`，項数`100`の等差数列\n",
    "- ノイズ `noise`: 標準正規分布に従う`100`個の乱数"
   ]
  },
  {
   "cell_type": "code",
   "execution_count": 21,
   "metadata": {},
   "outputs": [
    {
     "name": "stdout",
     "output_type": "stream",
     "text": [
      "[0.         0.05050505 0.1010101  0.15151515 0.2020202  0.25252525\n",
      " 0.3030303  0.35353535 0.4040404  0.45454545 0.50505051 0.55555556\n",
      " 0.60606061 0.65656566 0.70707071 0.75757576 0.80808081 0.85858586\n",
      " 0.90909091 0.95959596 1.01010101 1.06060606 1.11111111 1.16161616\n",
      " 1.21212121 1.26262626 1.31313131 1.36363636 1.41414141 1.46464646\n",
      " 1.51515152 1.56565657 1.61616162 1.66666667 1.71717172 1.76767677\n",
      " 1.81818182 1.86868687 1.91919192 1.96969697 2.02020202 2.07070707\n",
      " 2.12121212 2.17171717 2.22222222 2.27272727 2.32323232 2.37373737\n",
      " 2.42424242 2.47474747 2.52525253 2.57575758 2.62626263 2.67676768\n",
      " 2.72727273 2.77777778 2.82828283 2.87878788 2.92929293 2.97979798\n",
      " 3.03030303 3.08080808 3.13131313 3.18181818 3.23232323 3.28282828\n",
      " 3.33333333 3.38383838 3.43434343 3.48484848 3.53535354 3.58585859\n",
      " 3.63636364 3.68686869 3.73737374 3.78787879 3.83838384 3.88888889\n",
      " 3.93939394 3.98989899 4.04040404 4.09090909 4.14141414 4.19191919\n",
      " 4.24242424 4.29292929 4.34343434 4.39393939 4.44444444 4.49494949\n",
      " 4.54545455 4.5959596  4.64646465 4.6969697  4.74747475 4.7979798\n",
      " 4.84848485 4.8989899  4.94949495 5.        ]\n",
      "[ 1.8831507  -1.34775906 -1.270485    0.96939671 -1.17312341  1.94362119\n",
      " -0.41361898 -0.74745481  1.92294203  1.48051479  1.86755896  0.90604466\n",
      " -0.86122569  1.91006495 -0.26800337  0.8024564   0.94725197 -0.15501009\n",
      "  0.61407937  0.92220667  0.37642553 -1.09940079  0.29823817  1.3263859\n",
      " -0.69456786 -0.14963454 -0.43515355  1.84926373  0.67229476  0.40746184\n",
      " -0.76991607  0.53924919 -0.67433266  0.03183056 -0.63584608  0.67643329\n",
      "  0.57659082 -0.20829876  0.39600671 -1.09306151 -1.49125759  0.4393917\n",
      "  0.1666735   0.63503144  2.38314477  0.94447949 -0.91282223  1.11701629\n",
      " -1.31590741 -0.4615846  -0.06824161  1.71334272 -0.74475482 -0.82643854\n",
      " -0.09845252 -0.66347829  1.12663592 -1.07993151 -1.14746865 -0.43782004\n",
      " -0.49803245  1.92953205  0.94942081  0.08755124 -1.22543552  0.84436298\n",
      " -1.00021535 -1.5447711   1.18802979  0.31694261  0.92085882  0.31872765\n",
      "  0.85683061 -0.65102559 -1.03424284  0.68159452 -0.80340966 -0.68954978\n",
      " -0.4555325   0.01747916 -0.35399391 -1.37495129 -0.6436184  -2.22340315\n",
      "  0.62523145 -1.60205766 -1.10438334  0.05216508 -0.739563    1.5430146\n",
      " -1.29285691  0.26705087 -0.03928282 -1.1680935   0.52327666 -0.17154633\n",
      "  0.77179055  0.82350415  2.16323595  1.33652795]\n"
     ]
    }
   ],
   "source": [
    "x = np.linspace(0,5,100)\n",
    "noise = np.random.randn(100)\n",
    "print(x)\n",
    "print(noise)"
   ]
  },
  {
   "cell_type": "markdown",
   "metadata": {},
   "source": []
  },
  {
   "cell_type": "markdown",
   "metadata": {},
   "source": [
    "---"
   ]
  },
  {
   "cell_type": "markdown",
   "metadata": {},
   "source": [
    "ここで，真の関数 $y(x) = 3 - 5x + x^2$ を定義します．"
   ]
  },
  {
   "cell_type": "code",
   "execution_count": 22,
   "metadata": {},
   "outputs": [],
   "source": [
    "def y(x):\n",
    "    \"\"\"真の関数\"\"\"\n",
    "    return 3 - 5 * x + x ** 2"
   ]
  },
  {
   "cell_type": "markdown",
   "metadata": {},
   "source": [
    "### 問2． `ndarray`の操作\n",
    "\n",
    "問1で生成した観測値 `x` に対応する目標値 `t` を定義しなさい．\n",
    "\n",
    "目標値 $t$ は， $t = y(x) + \\epsilon$ と表されます．  ( $y$: 真の関数, $\\epsilon$: ノイズ )  \n",
    "実際の観測値にはどうしてもノイズ(観測誤差)が発生してしまいます．今回は，それを`noise`で再現します．\n",
    "\n",
    "問1で観測値を100個生成したので，それぞれに対応する目標値も100個作成する必要がありますが， `for` 文は絶対使ってはいけません．"
   ]
  },
  {
   "cell_type": "code",
   "execution_count": 23,
   "metadata": {},
   "outputs": [
    {
     "name": "stdout",
     "output_type": "stream",
     "text": [
      "[ 4.8831507   1.40226645  1.23466754  3.23477779  0.85758775  3.74476393\n",
      "  1.16305687  0.60985567  3.06598865  2.41439909  2.59738245  1.43690886\n",
      " -0.52421926  2.05831513 -0.30340792  0.58849864  0.55984252 -0.71076971\n",
      " -0.10492889  0.04505128 -0.65377547 -2.27754588 -1.02274948 -0.1323428\n",
      " -2.28593609 -1.86854077 -2.27649627 -0.10941396 -1.39861637 -1.77058122\n",
      " -3.04998954 -1.83775316 -3.14316237 -2.523725   -3.27302596 -2.03726939\n",
      " -2.20853315 -3.05974249 -2.51665526 -4.0618402  -4.51105149 -2.62631588\n",
      " -2.93984625 -2.50719895 -0.78969473 -2.25386762 -4.13157541 -2.11704146\n",
      " -4.5601682  -3.71094691 -3.31760392 -1.53091807 -3.97881257 -4.04519173\n",
      " -3.29679963 -3.83631779 -2.01559446 -4.18645125 -4.21317623 -3.45761394\n",
      " -3.46681115 -0.98312992 -1.90202292 -2.69757273 -3.9391382  -1.7928169\n",
      " -3.5557709  -4.01360081 -1.18897255 -1.96313085 -1.25718423 -1.75218348\n",
      " -1.10184707 -2.49236831 -2.75314908 -0.90977371 -2.26213837 -2.01053743\n",
      " -1.63367759 -1.01272184 -1.2311493  -2.09395956 -1.19937802 -2.6108126\n",
      "  0.41127369 -1.63746221 -0.95613316  0.38917151 -0.2086988   2.27283808\n",
      " -0.35897261  1.4100975   1.31802766  0.40858235  2.3244194   1.85916482\n",
      "  3.03717163  3.32865669  4.91326146  4.33652795]\n"
     ]
    }
   ],
   "source": [
    "t = y(x) + noise\n",
    "print(t)"
   ]
  },
  {
   "cell_type": "markdown",
   "metadata": {},
   "source": [
    "matplotlib で可視化すると以下のようなグラフになります．\n",
    "scatter → 散布図"
   ]
  },
  {
   "cell_type": "code",
   "execution_count": 24,
   "metadata": {},
   "outputs": [
    {
     "data": {
      "text/plain": [
       "<matplotlib.collections.PathCollection at 0x1a2243894e0>"
      ]
     },
     "execution_count": 24,
     "metadata": {},
     "output_type": "execute_result"
    },
    {
     "data": {
      "image/png": "[encoded data removed]",
      "text/plain": [
       "<Figure size 432x288 with 1 Axes>"
      ]
     },
     "metadata": {
      "needs_background": "light"
     },
     "output_type": "display_data"
    }
   ],
   "source": [
    "plt.scatter(x, t)"
   ]
  },
  {
   "cell_type": "markdown",
   "metadata": {},
   "source": [
    "---"
   ]
  },
  {
   "cell_type": "markdown",
   "metadata": {},
   "source": [
    "### 問3. `ndarray`の結合\n",
    "\n",
    "以下の3つの`ndarray`を垂直方向に結合した2次元配列を転置した行列 `X` を定義しなさい．\n",
    "\n",
    "- x0: 長さが `x` と同じで要素が全て1の`ndarray`\n",
    "- x1: 観測値 `x` の各要素を1乗した`ndarray`\n",
    "- x2: 観測値 `x` の各要素を2乗した`ndarray`\n",
    "\n",
    "例： $x = (1, 2, 3)$ のとき，\n",
    "\n",
    "$$\n",
    "x_0 = (1, 1, 1)\\\\\n",
    "x_1 = (1, 2, 3)\\\\\n",
    "x_2 = (1, 4, 9)\n",
    "$$\n",
    "\n",
    "だから，\n",
    "\n",
    "$$\n",
    "X = \\left(\n",
    "\\begin{array}{ccc}\n",
    "    1 & 1 & 1 \\\\\n",
    "    1 & 2 & 3 \\\\\n",
    "    1 & 4 & 9\n",
    "\\end{array}\n",
    "\\right)^T\n",
    "= \\left(\n",
    "\\begin{array}{ccc}\n",
    "    1 & 1 & 1 \\\\\n",
    "    1 & 2 & 4 \\\\\n",
    "    1 & 3 & 9\n",
    "\\end{array}\n",
    "\\right)\n",
    "$$\n",
    "\n",
    "ちなみに，機械学習では `X` のような行列を計画行列と呼びます．"
   ]
  },
  {
   "cell_type": "code",
   "execution_count": 30,
   "metadata": {},
   "outputs": [
    {
     "name": "stdout",
     "output_type": "stream",
     "text": [
      "[[1 1 1]\n",
      " [1 2 4]\n",
      " [1 3 9]]\n",
      "[[1.00000000e+00 0.00000000e+00 0.00000000e+00]\n",
      " [1.00000000e+00 5.05050505e-02 2.55076013e-03]\n",
      " [1.00000000e+00 1.01010101e-01 1.02030405e-02]\n",
      " [1.00000000e+00 1.51515152e-01 2.29568411e-02]\n",
      " [1.00000000e+00 2.02020202e-01 4.08121620e-02]\n",
      " [1.00000000e+00 2.52525253e-01 6.37690032e-02]\n",
      " [1.00000000e+00 3.03030303e-01 9.18273646e-02]\n",
      " [1.00000000e+00 3.53535354e-01 1.24987246e-01]\n",
      " [1.00000000e+00 4.04040404e-01 1.63248648e-01]\n",
      " [1.00000000e+00 4.54545455e-01 2.06611570e-01]\n",
      " [1.00000000e+00 5.05050505e-01 2.55076013e-01]\n",
      " [1.00000000e+00 5.55555556e-01 3.08641975e-01]\n",
      " [1.00000000e+00 6.06060606e-01 3.67309458e-01]\n",
      " [1.00000000e+00 6.56565657e-01 4.31078461e-01]\n",
      " [1.00000000e+00 7.07070707e-01 4.99948985e-01]\n",
      " [1.00000000e+00 7.57575758e-01 5.73921028e-01]\n",
      " [1.00000000e+00 8.08080808e-01 6.52994592e-01]\n",
      " [1.00000000e+00 8.58585859e-01 7.37169677e-01]\n",
      " [1.00000000e+00 9.09090909e-01 8.26446281e-01]\n",
      " [1.00000000e+00 9.59595960e-01 9.20824406e-01]\n",
      " [1.00000000e+00 1.01010101e+00 1.02030405e+00]\n",
      " [1.00000000e+00 1.06060606e+00 1.12488522e+00]\n",
      " [1.00000000e+00 1.11111111e+00 1.23456790e+00]\n",
      " [1.00000000e+00 1.16161616e+00 1.34935211e+00]\n",
      " [1.00000000e+00 1.21212121e+00 1.46923783e+00]\n",
      " [1.00000000e+00 1.26262626e+00 1.59422508e+00]\n",
      " [1.00000000e+00 1.31313131e+00 1.72431385e+00]\n",
      " [1.00000000e+00 1.36363636e+00 1.85950413e+00]\n",
      " [1.00000000e+00 1.41414141e+00 1.99979594e+00]\n",
      " [1.00000000e+00 1.46464646e+00 2.14518927e+00]\n",
      " [1.00000000e+00 1.51515152e+00 2.29568411e+00]\n",
      " [1.00000000e+00 1.56565657e+00 2.45128048e+00]\n",
      " [1.00000000e+00 1.61616162e+00 2.61197837e+00]\n",
      " [1.00000000e+00 1.66666667e+00 2.77777778e+00]\n",
      " [1.00000000e+00 1.71717172e+00 2.94867871e+00]\n",
      " [1.00000000e+00 1.76767677e+00 3.12468115e+00]\n",
      " [1.00000000e+00 1.81818182e+00 3.30578512e+00]\n",
      " [1.00000000e+00 1.86868687e+00 3.49199061e+00]\n",
      " [1.00000000e+00 1.91919192e+00 3.68329762e+00]\n",
      " [1.00000000e+00 1.96969697e+00 3.87970615e+00]\n",
      " [1.00000000e+00 2.02020202e+00 4.08121620e+00]\n",
      " [1.00000000e+00 2.07070707e+00 4.28782777e+00]\n",
      " [1.00000000e+00 2.12121212e+00 4.49954086e+00]\n",
      " [1.00000000e+00 2.17171717e+00 4.71635547e+00]\n",
      " [1.00000000e+00 2.22222222e+00 4.93827160e+00]\n",
      " [1.00000000e+00 2.27272727e+00 5.16528926e+00]\n",
      " [1.00000000e+00 2.32323232e+00 5.39740843e+00]\n",
      " [1.00000000e+00 2.37373737e+00 5.63462912e+00]\n",
      " [1.00000000e+00 2.42424242e+00 5.87695133e+00]\n",
      " [1.00000000e+00 2.47474747e+00 6.12437506e+00]\n",
      " [1.00000000e+00 2.52525253e+00 6.37690032e+00]\n",
      " [1.00000000e+00 2.57575758e+00 6.63452709e+00]\n",
      " [1.00000000e+00 2.62626263e+00 6.89725538e+00]\n",
      " [1.00000000e+00 2.67676768e+00 7.16508520e+00]\n",
      " [1.00000000e+00 2.72727273e+00 7.43801653e+00]\n",
      " [1.00000000e+00 2.77777778e+00 7.71604938e+00]\n",
      " [1.00000000e+00 2.82828283e+00 7.99918376e+00]\n",
      " [1.00000000e+00 2.87878788e+00 8.28741965e+00]\n",
      " [1.00000000e+00 2.92929293e+00 8.58075707e+00]\n",
      " [1.00000000e+00 2.97979798e+00 8.87919600e+00]\n",
      " [1.00000000e+00 3.03030303e+00 9.18273646e+00]\n",
      " [1.00000000e+00 3.08080808e+00 9.49137843e+00]\n",
      " [1.00000000e+00 3.13131313e+00 9.80512193e+00]\n",
      " [1.00000000e+00 3.18181818e+00 1.01239669e+01]\n",
      " [1.00000000e+00 3.23232323e+00 1.04479135e+01]\n",
      " [1.00000000e+00 3.28282828e+00 1.07769615e+01]\n",
      " [1.00000000e+00 3.33333333e+00 1.11111111e+01]\n",
      " [1.00000000e+00 3.38383838e+00 1.14503622e+01]\n",
      " [1.00000000e+00 3.43434343e+00 1.17947148e+01]\n",
      " [1.00000000e+00 3.48484848e+00 1.21441690e+01]\n",
      " [1.00000000e+00 3.53535354e+00 1.24987246e+01]\n",
      " [1.00000000e+00 3.58585859e+00 1.28583818e+01]\n",
      " [1.00000000e+00 3.63636364e+00 1.32231405e+01]\n",
      " [1.00000000e+00 3.68686869e+00 1.35930007e+01]\n",
      " [1.00000000e+00 3.73737374e+00 1.39679625e+01]\n",
      " [1.00000000e+00 3.78787879e+00 1.43480257e+01]\n",
      " [1.00000000e+00 3.83838384e+00 1.47331905e+01]\n",
      " [1.00000000e+00 3.88888889e+00 1.51234568e+01]\n",
      " [1.00000000e+00 3.93939394e+00 1.55188246e+01]\n",
      " [1.00000000e+00 3.98989899e+00 1.59192939e+01]\n",
      " [1.00000000e+00 4.04040404e+00 1.63248648e+01]\n",
      " [1.00000000e+00 4.09090909e+00 1.67355372e+01]\n",
      " [1.00000000e+00 4.14141414e+00 1.71513111e+01]\n",
      " [1.00000000e+00 4.19191919e+00 1.75721865e+01]\n",
      " [1.00000000e+00 4.24242424e+00 1.79981635e+01]\n",
      " [1.00000000e+00 4.29292929e+00 1.84292419e+01]\n",
      " [1.00000000e+00 4.34343434e+00 1.88654219e+01]\n",
      " [1.00000000e+00 4.39393939e+00 1.93067034e+01]\n",
      " [1.00000000e+00 4.44444444e+00 1.97530864e+01]\n",
      " [1.00000000e+00 4.49494949e+00 2.02045710e+01]\n",
      " [1.00000000e+00 4.54545455e+00 2.06611570e+01]\n",
      " [1.00000000e+00 4.59595960e+00 2.11228446e+01]\n",
      " [1.00000000e+00 4.64646465e+00 2.15896337e+01]\n",
      " [1.00000000e+00 4.69696970e+00 2.20615243e+01]\n",
      " [1.00000000e+00 4.74747475e+00 2.25385165e+01]\n",
      " [1.00000000e+00 4.79797980e+00 2.30206101e+01]\n",
      " [1.00000000e+00 4.84848485e+00 2.35078053e+01]\n",
      " [1.00000000e+00 4.89898990e+00 2.40001020e+01]\n",
      " [1.00000000e+00 4.94949495e+00 2.44975003e+01]\n",
      " [1.00000000e+00 5.00000000e+00 2.50000000e+01]]\n"
     ]
    }
   ],
   "source": [
    "x0 = np.arange(1,4)\n",
    "X = np.transpose([list(x0**0), list(x0**1),list(x0**2)])\n",
    "print(X)\n",
    "\n",
    "X = (np.vstack((x ** 0, x ** 1, x ** 2))).T\n",
    "print(X)"
   ]
  },
  {
   "cell_type": "markdown",
   "metadata": {},
   "source": [
    "---"
   ]
  },
  {
   "cell_type": "markdown",
   "metadata": {},
   "source": [
    "### 問4. 線形代数\n",
    "\n",
    "観測値 `x, t` をもとに真の関数 `y` を2次関数で回帰しなさい．\n",
    "\n",
    "任意の2次関数は $y(x) = w_0 + w_1 x + w_2 x^2$ と表すことができます．  \n",
    "なので，パラメータのベクトル $\\mathbf{w} = (w_0, w_1, w_2)$ を求めれば良いことになります．\n",
    "\n",
    "これは以下の正規方程式から求めることができます．\n",
    "\n",
    "$ \\mathbf{w} = (X^T X)^{-1} X^T \\mathbf{t} $\n",
    "\n",
    "この式の導出はdev_data勉強会で学びます．\n",
    "\n",
    "行列の積が多い場合は`np.dot`を使わない方が簡潔に書けます．"
   ]
  },
  {
   "cell_type": "code",
   "execution_count": 26,
   "metadata": {},
   "outputs": [
    {
     "name": "stdout",
     "output_type": "stream",
     "text": [
      "[ 3.65314901  3.38023834  3.11277811  2.85076832  2.59420897  2.34310007\n",
      "  2.0974416   1.85723358  1.62247599  1.39316885  1.16931215  0.95090589\n",
      "  0.73795007  0.53044469  0.32838976  0.13178526 -0.0593688  -0.24507241\n",
      " -0.42532559 -0.60012832 -0.76948061 -0.93338246 -1.09183387 -1.24483484\n",
      " -1.39238537 -1.53448546 -1.6711351  -1.80233431 -1.92808307 -2.0483814\n",
      " -2.16322928 -2.27262672 -2.37657372 -2.47507028 -2.5681164  -2.65571208\n",
      " -2.73785731 -2.81455211 -2.88579647 -2.95159038 -3.01193385 -3.06682688\n",
      " -3.11626948 -3.16026163 -3.19880334 -3.23189461 -3.25953543 -3.28172582\n",
      " -3.29846577 -3.30975527 -3.31559433 -3.31598296 -3.31092114 -3.30040888\n",
      " -3.28444618 -3.26303304 -3.23616946 -3.20385544 -3.16609097 -3.12287607\n",
      " -3.07421072 -3.02009494 -2.96052871 -2.89551204 -2.82504493 -2.74912738\n",
      " -2.66775939 -2.58094096 -2.48867209 -2.39095277 -2.28778302 -2.17916282\n",
      " -2.06509219 -1.94557111 -1.82059959 -1.69017763 -1.55430523 -1.41298239\n",
      " -1.26620911 -1.11398538 -0.95631122 -0.79318661 -0.62461157 -0.45058608\n",
      " -0.27111015 -0.08618379  0.10419302  0.30002027  0.50129797  0.7080261\n",
      "  0.92020467  1.13783369  1.36091314  1.58944304  1.82342337  2.06285415\n",
      "  2.30773537  2.55806703  2.81384913  3.07508167]\n"
     ]
    }
   ],
   "source": [
    "w0, w1, w2 = (np.linalg.inv(X.T @ X)) @ X.T @ t\n",
    "pred_y = w0 + w1 * x + w2 * x ** 2\n",
    "print(pred_y)"
   ]
  },
  {
   "cell_type": "markdown",
   "metadata": {},
   "source": [
    "---"
   ]
  },
  {
   "cell_type": "markdown",
   "metadata": {},
   "source": [
    "### 結果\n",
    "\n",
    "先ほどのグラフに真の関数(緑)と回帰曲線(赤)を重ねると以下のようになります．"
   ]
  },
  {
   "cell_type": "code",
   "execution_count": 32,
   "metadata": {},
   "outputs": [
    {
     "data": {
      "text/plain": [
       "<matplotlib.legend.Legend at 0x1a2244e4160>"
      ]
     },
     "execution_count": 32,
     "metadata": {},
     "output_type": "execute_result"
    },
    {
     "data": {
      "image/png": "[encoded data removed]",
      "text/plain": [
       "<Figure size 432x288 with 1 Axes>"
      ]
     },
     "metadata": {
      "needs_background": "light"
     },
     "output_type": "display_data"
    }
   ],
   "source": [
    "plt.scatter(x, t)\n",
    "plt.plot(x, pred_y, linewidth=5, color=\"red\", label=\"pred\")\n",
    "plt.plot(x, y(x), linewidth=5, color=\"green\", label=\"true\")\n",
    "plt.legend()"
   ]
  },
  {
   "cell_type": "markdown",
   "metadata": {},
   "source": [
    "今回使った手法は 真の関数 `y` の定義を変更するとその他のコードを全く変更しなくても同様に回帰することができます．\n",
    "\n",
    "例えば以下のように変更したらその関数を回帰します．\n",
    "\n",
    "```python\n",
    "def y(x):\n",
    "    \"\"\"真の関数\"\"\"\n",
    "    return 5 * np.sin(np.pi * x / 5)\n",
    "```\n",
    "dev_data勉強会で詳しくやりますが，この回帰曲線の表現力は2次までです．\n",
    "カーブが2つ以上の曲線を回帰したい場合は問3の計画行列の列数を　`x3, x4...`　のように増やせば表現力が上がります．"
   ]
  },
  {
   "cell_type": "code",
   "execution_count": null,
   "metadata": {},
   "outputs": [],
   "source": []
  }
 ],
 "metadata": {
  "kernelspec": {
   "display_name": "Python 3.10.6 64-bit",
   "language": "python",
   "name": "python3"
  },
  "language_info": {
   "codemirror_mode": {
    "name": "ipython",
    "version": 3
   },
   "file_extension": ".py",
   "mimetype": "text/x-python",
   "name": "python",
   "nbconvert_exporter": "python",
   "pygments_lexer": "ipython3",
   "version": "3.10.6"
  },
  "vscode": {
   "interpreter": {
    "hash": "a9b0f078c3a6d0115c4923afd555bd247fe15b9ed098fe080e1c267e6cef5c83"
   }
  }
 },
 "nbformat": 4,
 "nbformat_minor": 4
}
